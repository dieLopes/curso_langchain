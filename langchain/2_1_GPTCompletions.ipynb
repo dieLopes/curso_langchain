{
 "cells": [
  {
   "cell_type": "markdown",
   "id": "lrHrsGQC6fJ6",
   "metadata": {
    "editable": true,
    "id": "lrHrsGQC6fJ6",
    "slideshow": {
     "slide_type": ""
    },
    "tags": []
   },
   "source": [
    "# Setup"
   ]
  },
  {
   "cell_type": "code",
   "execution_count": null,
   "id": "6iortgIV7lEz",
   "metadata": {
    "editable": true,
    "id": "6iortgIV7lEz",
    "slideshow": {
     "slide_type": ""
    },
    "tags": []
   },
   "outputs": [],
   "source": [
    "from openai import OpenAI\n",
    "import os\n",
    "import yaml"
   ]
  },
  {
   "cell_type": "code",
   "execution_count": null,
   "id": "RAoVhdWA7lHy",
   "metadata": {
    "editable": true,
    "id": "RAoVhdWA7lHy",
    "slideshow": {
     "slide_type": ""
    },
    "tags": []
   },
   "outputs": [],
   "source": [
    "with open('config.yaml', 'r') as config_file:\n",
    "    config = yaml.safe_load(config_file)\n",
    "    \n",
    "os.environ['OPENAI_API_KEY'] = config['OPENAI_API_KEY']"
   ]
  },
  {
   "cell_type": "markdown",
   "id": "0Zh2E9OE68BA",
   "metadata": {
    "id": "0Zh2E9OE68BA"
   },
   "source": [
    "# Completion"
   ]
  },
  {
   "cell_type": "code",
   "execution_count": 3,
   "id": "ad4b1e9e-e1e0-4d81-ae5b-9a24dc700e13",
   "metadata": {
    "editable": true,
    "id": "ad4b1e9e-e1e0-4d81-ae5b-9a24dc700e13",
    "slideshow": {
     "slide_type": ""
    },
    "tags": []
   },
   "outputs": [],
   "source": [
    "client = OpenAI()\n",
    "response = client.completions.create(\n",
    "  model=\"gpt-3.5-turbo-instruct\",\n",
    "  prompt=\"Crie uma canção contendo apenas uma estrofe.\"\n",
    ")"
   ]
  },
  {
   "cell_type": "code",
   "execution_count": 4,
   "id": "bi_-Nr6U72DS",
   "metadata": {
    "colab": {
     "base_uri": "https://localhost:8080/"
    },
    "id": "bi_-Nr6U72DS",
    "outputId": "6289939b-1ba0-426a-9fb3-311edb583ac2"
   },
   "outputs": [
    {
     "name": "stdout",
     "output_type": "stream",
     "text": [
      "Completion(id='cmpl-BPaBRQvOQiDqCPeGG5Zeia6Gx3BRt', choices=[CompletionChoice(finish_reason='length', index=0, logprobs=None, text='\\n\\nNo meu peito bate forte a saudade\\nDaqueles')], created=1745436989, model='gpt-3.5-turbo-instruct:20230824-v2', object='text_completion', system_fingerprint=None, usage=CompletionUsage(completion_tokens=16, prompt_tokens=13, total_tokens=29))\n"
     ]
    }
   ],
   "source": [
    "print(response)"
   ]
  },
  {
   "cell_type": "code",
   "execution_count": 5,
   "id": "RRfIgzHI8gcb",
   "metadata": {
    "colab": {
     "base_uri": "https://localhost:8080/"
    },
    "id": "RRfIgzHI8gcb",
    "outputId": "bd04bbf5-5d41-4522-ce1d-c0b3814f825b"
   },
   "outputs": [
    {
     "name": "stdout",
     "output_type": "stream",
     "text": [
      "\n",
      "\n",
      "No meu peito bate forte a saudade\n",
      "Daqueles\n"
     ]
    }
   ],
   "source": [
    "message = (response.choices[0].text)\n",
    "print(message)"
   ]
  },
  {
   "cell_type": "code",
   "execution_count": null,
   "id": "422688d5-dfa8-445e-9944-25d03d1a04b5",
   "metadata": {
    "editable": true,
    "slideshow": {
     "slide_type": ""
    },
    "tags": []
   },
   "outputs": [],
   "source": []
  }
 ],
 "metadata": {
  "colab": {
   "provenance": []
  },
  "kernelspec": {
   "display_name": "Python 3 (ipykernel)",
   "language": "python",
   "name": "python3"
  },
  "language_info": {
   "codemirror_mode": {
    "name": "ipython",
    "version": 3
   },
   "file_extension": ".py",
   "mimetype": "text/x-python",
   "name": "python",
   "nbconvert_exporter": "python",
   "pygments_lexer": "ipython3",
   "version": "3.12.9"
  }
 },
 "nbformat": 4,
 "nbformat_minor": 5
}
